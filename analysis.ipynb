{
 "cells": [
  {
   "cell_type": "markdown",
   "metadata": {},
   "source": [
    "# Relationship Between COVID-19 Twitter Mentions and Market Indices\n",
    "\n",
    "The purpose of this analysis is to examine the impact of the amplification of COVID-19 related discussions within Twitter on financial markets.\n",
    "\n",
    "## Data Cleaning\n",
    "\n",
    "Prior to analyzing our data, it is important to first ensure data integrity by properly cleaning our desired data sets. Doing so will include several steps as several data sets from multiple third party sources must be used in the abscence of satisfactory first party data\n",
    "\n",
    "### Concatenating COVID-19 Raw Data\n"
   ]
  },
  {
   "cell_type": "code",
   "execution_count": 28,
   "metadata": {},
   "outputs": [
    {
     "name": "stdout",
     "output_type": "stream",
     "text": [
      "new file created: /covid-tweets/raw_data_concat/raw_data_concat.csv\n"
     ]
    }
   ],
   "source": [
    "import os\n",
    "import glob\n",
    "import pandas as pd\n",
    "\n",
    "# change working directory to raw_data where we all of our raw data is stored.\n",
    "# os.chdir(\"/Users/xaviergill/Documents/coding-projects/ds-project1/covid-tweets/raw_data\")\n",
    "\n",
    "# create a variable to hold our desired extension, csv in this case.\n",
    "extension = 'csv'\n",
    "\n",
    "# store all filenames in current working directory that have a csv extension.\n",
    "all_filenames = [i for i in glob.glob('*.{}'.format(extension))]\n",
    "\n",
    "# concatenate all of our files stored in all_filenames using pandas and save output to a new variable.\n",
    "combined_csv = pd.concat([pd.read_csv(f) for f in all_filenames])\n",
    "\n",
    "# export our combined_csv as a csv file to a separate folder named raw_data_concat for ease of access.\n",
    "combined_csv.to_csv(\"../raw_data_concat/raw_data_concat.csv\", index=False, encoding='utf-8-sig')\n",
    "\n",
    "print(\"new file created: /covid-tweets/raw_data_concat/raw_data_concat.csv\")"
   ]
  },
  {
   "cell_type": "code",
   "execution_count": null,
   "metadata": {},
   "outputs": [],
   "source": []
  }
 ],
 "metadata": {
  "kernelspec": {
   "display_name": "Python 3",
   "language": "python",
   "name": "python3"
  },
  "language_info": {
   "codemirror_mode": {
    "name": "ipython",
    "version": 3
   },
   "file_extension": ".py",
   "mimetype": "text/x-python",
   "name": "python",
   "nbconvert_exporter": "python",
   "pygments_lexer": "ipython3",
   "version": "3.8.3"
  }
 },
 "nbformat": 4,
 "nbformat_minor": 4
}
